{
  "cells": [
    {
      "cell_type": "markdown",
      "metadata": {
        "id": "TL9Q2_aQup4j"
      },
      "source": [
        "# <p style=\" margin-left: 100px;\"> DeepScan4Failure </p> "
      ]
    },
    {
      "cell_type": "markdown",
      "source": [
        "Google Colab link to run the code:\n",
        "https://drive.google.com/drive/folders/17AQ5t9Adn2O5rexR0BVHESBKqHokvGOT?usp=sharing "
      ],
      "metadata": {
        "id": "W9eXY2adLDgn"
      }
    },
    {
      "cell_type": "markdown",
      "metadata": {
        "id": "V9X7DJrTup4m"
      },
      "source": [
        "## License"
      ]
    },
    {
      "cell_type": "markdown",
      "metadata": {
        "id": "bVDoZPLGup4n"
      },
      "source": [
        "```MIT License\n",
        "\n",
        "Copyright (c) 2021 HP-SCDS / Observatorio / Máster Data-Science UC /\n",
        "Diego García Saiz / Javier Alejandro Cuartas Micieces / 2021-2022 / \n",
        "DeepScan4Failure\n",
        "\n",
        "Permission is hereby granted, free of charge, to any person obtaining a copy\n",
        "of this software and associated documentation files (the \"Software\"), to deal\n",
        "in the Software without restriction, including without limitation the rights\n",
        "to use, copy, modify, merge, publish, distribute, sublicense, and/or sell\n",
        "copies of the Software, and to permit persons to whom the Software is\n",
        "furnished to do so, subject to the following conditions:\n",
        "\n",
        "The above copyright notice and this permission notice shall be included in all\n",
        "copies or substantial portions of the Software.\n",
        "\n",
        "THE SOFTWARE IS PROVIDED \"AS IS\", WITHOUT WARRANTY OF ANY KIND, EXPRESS OR\n",
        "IMPLIED, INCLUDING BUT NOT LIMITED TO THE WARRANTIES OF MERCHANTABILITY,\n",
        "FITNESS FOR A PARTICULAR PURPOSE AND NONINFRINGEMENT. IN NO EVENT SHALL THE\n",
        "AUTHORS OR COPYRIGHT HOLDERS BE LIABLE FOR ANY CLAIM, DAMAGES OR OTHER\n",
        "LIABILITY, WHETHER IN AN ACTION OF CONTRACT, TORT OR OTHERWISE, ARISING FROM,\n",
        "OUT OF OR IN CONNECTION WITH THE SOFTWARE OR THE USE OR OTHER DEALINGS IN THE\n",
        "SOFTWARE.\n",
        "\n"
      ]
    },
    {
      "cell_type": "markdown",
      "metadata": {
        "id": "tHA77uZnup4p"
      },
      "source": [
        "## External code and libraries importing\n"
      ]
    },
    {
      "cell_type": "code",
      "execution_count": null,
      "metadata": {
        "id": "W8TQxXyEup4p"
      },
      "outputs": [],
      "source": [
        "%matplotlib inline"
      ]
    },
    {
      "cell_type": "code",
      "source": [
        "from google.colab import drive\n",
        "drive.mount(\"/content/gdrive\")"
      ],
      "metadata": {
        "colab": {
          "base_uri": "https://localhost:8080/"
        },
        "id": "ARPaWm7CvVA-",
        "outputId": "0348f99f-ee18-4397-bacb-375667c08886"
      },
      "execution_count": 4,
      "outputs": [
        {
          "output_type": "stream",
          "name": "stdout",
          "text": [
            "Mounted at /content/gdrive\n"
          ]
        }
      ]
    },
    {
      "cell_type": "code",
      "source": [
        "!ls"
      ],
      "metadata": {
        "colab": {
          "base_uri": "https://localhost:8080/"
        },
        "id": "rrgxoulWJQq0",
        "outputId": "81c9d2be-f38d-4ca0-ada2-cc0a230106e6"
      },
      "execution_count": null,
      "outputs": [
        {
          "output_type": "stream",
          "name": "stdout",
          "text": [
            "drive  gdrive  sample_data\n"
          ]
        }
      ]
    },
    {
      "cell_type": "code",
      "execution_count": 6,
      "metadata": {
        "id": "QsnfZwEfup4q"
      },
      "outputs": [],
      "source": [
        "import os\n",
        "import math\n",
        "import datetime \n",
        "import numpy as np\n",
        "import pandas as pd\n",
        "\n",
        "from sklearn.model_selection import KFold\n",
        "from sklearn.model_selection import train_test_split\n",
        "from sklearn.preprocessing import StandardScaler\n",
        "\n",
        "import torch\n",
        "from torchvision import datasets\n",
        "from torchvision.transforms import ToTensor\n",
        "from torch.utils.data import Dataset, DataLoader,TensorDataset,random_split,SubsetRandomSampler, ConcatDataset\n",
        "\n",
        "import matplotlib.pyplot as plt\n",
        "import matplotlib.dates as mdates"
      ]
    },
    {
      "cell_type": "code",
      "execution_count": null,
      "metadata": {
        "id": "G0DUlbvGup4r"
      },
      "outputs": [],
      "source": [
        "#ROBUST PCA IMPLEMENTATION <http://arxiv.org/abs/0912.3599>\n",
        "\n",
        "# The MIT License (MIT)\n",
        "\n",
        "# Copyright (c) 2015 Dan Foreman-Mackey\n",
        "\n",
        "# Permission is hereby granted, free of charge, to any person obtaining a copy\n",
        "# of this software and associated documentation files (the \"Software\"), to deal\n",
        "# in the Software without restriction, including without limitation the rights\n",
        "# to use, copy, modify, merge, publish, distribute, sublicense, and/or sell\n",
        "# copies of the Software, and to permit persons to whom the Software is\n",
        "# furnished to do so, subject to the following conditions:\n",
        "\n",
        "# The above copyright notice and this permission notice shall be included in all\n",
        "# copies or substantial portions of the Software.\n",
        "\n",
        "# THE SOFTWARE IS PROVIDED \"AS IS\", WITHOUT WARRANTY OF ANY KIND, EXPRESS OR\n",
        "# IMPLIED, INCLUDING BUT NOT LIMITED TO THE WARRANTIES OF MERCHANTABILITY,\n",
        "# FITNESS FOR A PARTICULAR PURPOSE AND NONINFRINGEMENT. IN NO EVENT SHALL THE\n",
        "# AUTHORS OR COPYRIGHT HOLDERS BE LIABLE FOR ANY CLAIM, DAMAGES OR OTHER\n",
        "# LIABILITY, WHETHER IN AN ACTION OF CONTRACT, TORT OR OTHERWISE, ARISING FROM,\n",
        "# OUT OF OR IN CONNECTION WITH THE SOFTWARE OR THE USE OR OTHER DEALINGS IN THE\n",
        "# SOFTWARE.\n",
        "\n",
        "# -*- coding: utf-8 -*-\n",
        "\"\"\"\n",
        "An implementation of the Principal Component Pursuit algorithm for robust PCA\n",
        "as described in `Candes, Li, Ma, & Wright <http://arxiv.org/abs/0912.3599>`_.\n",
        "An alternative Python implementation using non-standard dependencies and\n",
        "different hyperparameter choices is available at:\n",
        "http://blog.shriphani.com/2013/12/18/\n",
        "    robust-principal-component-pursuit-background-matrix-recovery/\n",
        "\"\"\"\n",
        "\n",
        "from __future__ import division, print_function\n",
        "\n",
        "__all__ = [\"pcp\"]\n",
        "\n",
        "import time\n",
        "import fbpca\n",
        "import logging\n",
        "import numpy as np\n",
        "from scipy.sparse.linalg import svds\n",
        "\n",
        "\n",
        "def pcp(M, delta=1e-6, mu=None, maxiter=500, verbose=False, missing_data=True,\n",
        "        svd_method=\"approximate\", **svd_args):\n",
        "    # Check the SVD method.\n",
        "    allowed_methods = [\"approximate\", \"exact\", \"sparse\"]\n",
        "    if svd_method not in allowed_methods:\n",
        "        raise ValueError(\"'svd_method' must be one of: {0}\"\n",
        "                         .format(allowed_methods))\n",
        "\n",
        "    # Check for missing data.\n",
        "    shape = M.shape\n",
        "    if missing_data:\n",
        "        missing = ~(np.isfinite(M))\n",
        "        if np.any(missing):\n",
        "            M = np.array(M)\n",
        "            M[missing] = 0.0\n",
        "    else:\n",
        "        missing = np.zeros_like(M, dtype=bool)\n",
        "        if not np.all(np.isfinite(M)):\n",
        "            logging.warn(\"The matrix has non-finite entries. \"\n",
        "                         \"SVD will probably fail.\")\n",
        "\n",
        "    # Initialize the tuning parameters.\n",
        "    lam = 1.0 / np.sqrt(np.max(shape))\n",
        "    if mu is None:\n",
        "        mu = 0.25 * np.prod(shape) / np.sum(np.abs(M))\n",
        "        if verbose:\n",
        "            print(\"mu = {0}\".format(mu))\n",
        "\n",
        "    # Convergence criterion.\n",
        "    norm = np.sum(M ** 2)\n",
        "\n",
        "    # Iterate.\n",
        "    i = 0\n",
        "    rank = np.min(shape)\n",
        "    S = np.zeros(shape)\n",
        "    Y = np.zeros(shape)\n",
        "    while i < max(maxiter, 1):\n",
        "        # SVD step.\n",
        "        strt = time.time()\n",
        "        u, s, v = _svd(svd_method, M - S + Y / mu, rank+1, 1./mu, **svd_args)\n",
        "        svd_time = time.time() - strt\n",
        "\n",
        "        s = shrink(s, 1./mu)\n",
        "        rank = np.sum(s > 0.0)\n",
        "        u, s, v = u[:, :rank], s[:rank], v[:rank, :]\n",
        "        L = np.dot(u, np.dot(np.diag(s), v))\n",
        "\n",
        "        # Shrinkage step.\n",
        "        S = shrink(M - L + Y / mu, lam / mu)\n",
        "\n",
        "        # Lagrange step.\n",
        "        step = M - L - S\n",
        "        step[missing] = 0.0\n",
        "        Y += mu * step\n",
        "\n",
        "        # Check for convergence.\n",
        "        err = np.sqrt(np.sum(step ** 2) / norm)\n",
        "        if verbose:\n",
        "            print((\"Iteration {0}: error={1:.3e}, rank={2:d}, nnz={3:d}, \"\n",
        "                   \"time={4:.3e}\")\n",
        "                  .format(i, err, np.sum(s > 0), np.sum(S > 0), svd_time))\n",
        "        if err < delta:\n",
        "            break\n",
        "        i += 1\n",
        "\n",
        "    if i >= maxiter:\n",
        "        logging.warn(\"convergence not reached in pcp\")\n",
        "    return L, S, (u, s, v)\n",
        "\n",
        "\n",
        "def shrink(M, tau):\n",
        "    sgn = np.sign(M)\n",
        "    S = np.abs(M) - tau\n",
        "    S[S < 0.0] = 0.0\n",
        "    return sgn * S\n",
        "\n",
        "\n",
        "def _svd(method, X, rank, tol, **args):\n",
        "    rank = min(rank, np.min(X.shape))\n",
        "    if method == \"approximate\":\n",
        "        return fbpca.pca(X, k=rank, raw=True, **args)\n",
        "    elif method == \"exact\":\n",
        "        return np.linalg.svd(X, full_matrices=False, **args)\n",
        "    elif method == \"sparse\":\n",
        "        if rank >= np.min(X.shape):\n",
        "            return np.linalg.svd(X, full_matrices=False)\n",
        "        u, s, v = svds(X, k=rank, tol=tol)\n",
        "        u, s, v = u[:, ::-1], s[::-1], v[::-1, :]\n",
        "        return u, s, v\n",
        "    raise ValueError(\"invalid SVD method\")"
      ]
    },
    {
      "cell_type": "markdown",
      "metadata": {
        "id": "YTRU8G8gup4s"
      },
      "source": [
        "## Dataset Exploration"
      ]
    },
    {
      "cell_type": "markdown",
      "metadata": {
        "id": "VedY1Iahup4t"
      },
      "source": [
        "We are using a Numenta test dataset downloaded from Kaggle."
      ]
    },
    {
      "cell_type": "code",
      "execution_count": 7,
      "metadata": {
        "id": "GN_Kpuzgup4u",
        "outputId": "6338bcbc-6af4-4263-a357-40b4b7dee690",
        "colab": {
          "base_uri": "https://localhost:8080/",
          "height": 455
        }
      },
      "outputs": [
        {
          "output_type": "execute_result",
          "data": {
            "text/html": [
              "\n",
              "  <div id=\"df-b36c82c7-f3e2-41c2-b2fc-399b44ca7046\">\n",
              "    <div class=\"colab-df-container\">\n",
              "      <div>\n",
              "<style scoped>\n",
              "    .dataframe tbody tr th:only-of-type {\n",
              "        vertical-align: middle;\n",
              "    }\n",
              "\n",
              "    .dataframe tbody tr th {\n",
              "        vertical-align: top;\n",
              "    }\n",
              "\n",
              "    .dataframe thead th {\n",
              "        text-align: right;\n",
              "    }\n",
              "</style>\n",
              "<table border=\"1\" class=\"dataframe\">\n",
              "  <thead>\n",
              "    <tr style=\"text-align: right;\">\n",
              "      <th></th>\n",
              "      <th>value</th>\n",
              "    </tr>\n",
              "    <tr>\n",
              "      <th>timestamp</th>\n",
              "      <th></th>\n",
              "    </tr>\n",
              "  </thead>\n",
              "  <tbody>\n",
              "    <tr>\n",
              "      <th>2014-04-01 00:00:00</th>\n",
              "      <td>19.761252</td>\n",
              "    </tr>\n",
              "    <tr>\n",
              "      <th>2014-04-01 00:05:00</th>\n",
              "      <td>20.500833</td>\n",
              "    </tr>\n",
              "    <tr>\n",
              "      <th>2014-04-01 00:10:00</th>\n",
              "      <td>19.961641</td>\n",
              "    </tr>\n",
              "    <tr>\n",
              "      <th>2014-04-01 00:15:00</th>\n",
              "      <td>21.490266</td>\n",
              "    </tr>\n",
              "    <tr>\n",
              "      <th>2014-04-01 00:20:00</th>\n",
              "      <td>20.187739</td>\n",
              "    </tr>\n",
              "    <tr>\n",
              "      <th>...</th>\n",
              "      <td>...</td>\n",
              "    </tr>\n",
              "    <tr>\n",
              "      <th>2014-04-14 23:35:00</th>\n",
              "      <td>18.074649</td>\n",
              "    </tr>\n",
              "    <tr>\n",
              "      <th>2014-04-14 23:40:00</th>\n",
              "      <td>21.002014</td>\n",
              "    </tr>\n",
              "    <tr>\n",
              "      <th>2014-04-14 23:45:00</th>\n",
              "      <td>20.566713</td>\n",
              "    </tr>\n",
              "    <tr>\n",
              "      <th>2014-04-14 23:50:00</th>\n",
              "      <td>18.254193</td>\n",
              "    </tr>\n",
              "    <tr>\n",
              "      <th>2014-04-14 23:55:00</th>\n",
              "      <td>21.863147</td>\n",
              "    </tr>\n",
              "  </tbody>\n",
              "</table>\n",
              "<p>4032 rows × 1 columns</p>\n",
              "</div>\n",
              "      <button class=\"colab-df-convert\" onclick=\"convertToInteractive('df-b36c82c7-f3e2-41c2-b2fc-399b44ca7046')\"\n",
              "              title=\"Convert this dataframe to an interactive table.\"\n",
              "              style=\"display:none;\">\n",
              "        \n",
              "  <svg xmlns=\"http://www.w3.org/2000/svg\" height=\"24px\"viewBox=\"0 0 24 24\"\n",
              "       width=\"24px\">\n",
              "    <path d=\"M0 0h24v24H0V0z\" fill=\"none\"/>\n",
              "    <path d=\"M18.56 5.44l.94 2.06.94-2.06 2.06-.94-2.06-.94-.94-2.06-.94 2.06-2.06.94zm-11 1L8.5 8.5l.94-2.06 2.06-.94-2.06-.94L8.5 2.5l-.94 2.06-2.06.94zm10 10l.94 2.06.94-2.06 2.06-.94-2.06-.94-.94-2.06-.94 2.06-2.06.94z\"/><path d=\"M17.41 7.96l-1.37-1.37c-.4-.4-.92-.59-1.43-.59-.52 0-1.04.2-1.43.59L10.3 9.45l-7.72 7.72c-.78.78-.78 2.05 0 2.83L4 21.41c.39.39.9.59 1.41.59.51 0 1.02-.2 1.41-.59l7.78-7.78 2.81-2.81c.8-.78.8-2.07 0-2.86zM5.41 20L4 18.59l7.72-7.72 1.47 1.35L5.41 20z\"/>\n",
              "  </svg>\n",
              "      </button>\n",
              "      \n",
              "  <style>\n",
              "    .colab-df-container {\n",
              "      display:flex;\n",
              "      flex-wrap:wrap;\n",
              "      gap: 12px;\n",
              "    }\n",
              "\n",
              "    .colab-df-convert {\n",
              "      background-color: #E8F0FE;\n",
              "      border: none;\n",
              "      border-radius: 50%;\n",
              "      cursor: pointer;\n",
              "      display: none;\n",
              "      fill: #1967D2;\n",
              "      height: 32px;\n",
              "      padding: 0 0 0 0;\n",
              "      width: 32px;\n",
              "    }\n",
              "\n",
              "    .colab-df-convert:hover {\n",
              "      background-color: #E2EBFA;\n",
              "      box-shadow: 0px 1px 2px rgba(60, 64, 67, 0.3), 0px 1px 3px 1px rgba(60, 64, 67, 0.15);\n",
              "      fill: #174EA6;\n",
              "    }\n",
              "\n",
              "    [theme=dark] .colab-df-convert {\n",
              "      background-color: #3B4455;\n",
              "      fill: #D2E3FC;\n",
              "    }\n",
              "\n",
              "    [theme=dark] .colab-df-convert:hover {\n",
              "      background-color: #434B5C;\n",
              "      box-shadow: 0px 1px 3px 1px rgba(0, 0, 0, 0.15);\n",
              "      filter: drop-shadow(0px 1px 2px rgba(0, 0, 0, 0.3));\n",
              "      fill: #FFFFFF;\n",
              "    }\n",
              "  </style>\n",
              "\n",
              "      <script>\n",
              "        const buttonEl =\n",
              "          document.querySelector('#df-b36c82c7-f3e2-41c2-b2fc-399b44ca7046 button.colab-df-convert');\n",
              "        buttonEl.style.display =\n",
              "          google.colab.kernel.accessAllowed ? 'block' : 'none';\n",
              "\n",
              "        async function convertToInteractive(key) {\n",
              "          const element = document.querySelector('#df-b36c82c7-f3e2-41c2-b2fc-399b44ca7046');\n",
              "          const dataTable =\n",
              "            await google.colab.kernel.invokeFunction('convertToInteractive',\n",
              "                                                     [key], {});\n",
              "          if (!dataTable) return;\n",
              "\n",
              "          const docLinkHtml = 'Like what you see? Visit the ' +\n",
              "            '<a target=\"_blank\" href=https://colab.research.google.com/notebooks/data_table.ipynb>data table notebook</a>'\n",
              "            + ' to learn more about interactive tables.';\n",
              "          element.innerHTML = '';\n",
              "          dataTable['output_type'] = 'display_data';\n",
              "          await google.colab.output.renderOutput(dataTable, element);\n",
              "          const docLink = document.createElement('div');\n",
              "          docLink.innerHTML = docLinkHtml;\n",
              "          element.appendChild(docLink);\n",
              "        }\n",
              "      </script>\n",
              "    </div>\n",
              "  </div>\n",
              "  "
            ],
            "text/plain": [
              "                         value\n",
              "timestamp                     \n",
              "2014-04-01 00:00:00  19.761252\n",
              "2014-04-01 00:05:00  20.500833\n",
              "2014-04-01 00:10:00  19.961641\n",
              "2014-04-01 00:15:00  21.490266\n",
              "2014-04-01 00:20:00  20.187739\n",
              "...                        ...\n",
              "2014-04-14 23:35:00  18.074649\n",
              "2014-04-14 23:40:00  21.002014\n",
              "2014-04-14 23:45:00  20.566713\n",
              "2014-04-14 23:50:00  18.254193\n",
              "2014-04-14 23:55:00  21.863147\n",
              "\n",
              "[4032 rows x 1 columns]"
            ]
          },
          "metadata": {},
          "execution_count": 7
        }
      ],
      "source": [
        "dataexplore = pd.read_csv(\"gdrive/My Drive/DeepScan4Failure/data/art_daily_jumpsup.csv\")\n",
        "dataexplore =dataexplore.set_index(pd.to_datetime(dataexplore['timestamp']))\n",
        "dataexplore.drop('timestamp',axis=1)"
      ]
    },
    {
      "cell_type": "code",
      "execution_count": null,
      "metadata": {
        "id": "Tmb1y9Fyup4u",
        "outputId": "8c7f7de5-282e-46b0-d4cc-a0d73f6198fb"
      },
      "outputs": [
        {
          "data": {
            "image/png": "[encoded data removed]",
            "text/plain": [
              "<Figure size 432x288 with 1 Axes>"
            ]
          },
          "metadata": {
            "needs_background": "light"
          },
          "output_type": "display_data"
        }
      ],
      "source": [
        "plt.figure()\n",
        "plt.hist(dataexplore[\"value\"], bins=100,color=\"red\")\n",
        "plt.title(\"Artificial Jump Anomalies\")\n",
        "plt.xlabel(\"Values\")\n",
        "plt.ylabel(\"Artificial Measure Frequency\")\n",
        "plt.show()"
      ]
    },
    {
      "cell_type": "code",
      "execution_count": null,
      "metadata": {
        "id": "J7Qi2MI-up4v",
        "outputId": "4c040f82-3afa-4439-dee2-0264c8bfd015"
      },
      "outputs": [
        {
          "data": {
            "image/png": "[encoded data removed]",
            "text/plain": [
              "<Figure size 432x288 with 1 Axes>"
            ]
          },
          "metadata": {
            "needs_background": "light"
          },
          "output_type": "display_data"
        }
      ],
      "source": [
        "#https://pretagteam.com/question/formatting-of-dates-in-python-with-matplotlib-and-datetime-x-axis-error-float\n",
        "#https://stackoverflow.com/questions/9627686/plotting-dates-on-the-x-axis-with-pythons-matplotlib/9627970\n",
        "\n",
        "plt.figure()\n",
        "x = [datetime.datetime.strptime(d, '%Y-%m-%d %H:%M:%S') for d in dataexplore.loc[:,\"timestamp\"]]\n",
        "plt.gca().xaxis.set_major_formatter(mdates.DateFormatter('%m/%d/%Y %H:%M:%S'))\n",
        "plt.gca().xaxis.set_major_locator(mdates.DayLocator(interval=2))\n",
        "plt.plot(x, dataexplore.loc[:,\"value\"],\"ro\")\n",
        "plt.plot(x, dataexplore.loc[:,\"value\"],\"k\")\n",
        "plt.ylim([0, max(dataexplore.loc[:,\"value\"])])\n",
        "plt.gcf().autofmt_xdate()\n",
        "plt.show()"
      ]
    },
    {
      "cell_type": "markdown",
      "metadata": {
        "id": "QDp1Ic0dup4w"
      },
      "source": [
        "## Dataset loading and training, validation and test sets splitting"
      ]
    },
    {
      "cell_type": "markdown",
      "metadata": {
        "id": "ReiLy-PRup4x"
      },
      "source": [
        "Training and test sets split into two csv files (run only once): 67% vs 34%. First, We split according to the order of observation because of the dataset structure and the autoencoder architecture we are applying. Each full day information will be considered a single observation for the model training so It will be split into 144 columns (we have 12 observation of 5 minutes each hour so We would have 28 12h samples). Then, we will perform a LOOCV cross validation split for the training set because of the small size of the training sample (around 18), we have chosen to feed the algorithm with."
      ]
    },
    {
      "cell_type": "code",
      "execution_count": null,
      "metadata": {
        "scrolled": false,
        "id": "SaQBvKf6up4x",
        "outputId": "42d10c0a-f8d9-4fac-cfda-bec4eede9b4d"
      },
      "outputs": [
        {
          "data": {
            "text/html": [
              "<div>\n",
              "<style scoped>\n",
              "    .dataframe tbody tr th:only-of-type {\n",
              "        vertical-align: middle;\n",
              "    }\n",
              "\n",
              "    .dataframe tbody tr th {\n",
              "        vertical-align: top;\n",
              "    }\n",
              "\n",
              "    .dataframe thead th {\n",
              "        text-align: right;\n",
              "    }\n",
              "</style>\n",
              "<table border=\"1\" class=\"dataframe\">\n",
              "  <thead>\n",
              "    <tr style=\"text-align: right;\">\n",
              "      <th></th>\n",
              "      <th>timestamp</th>\n",
              "      <th>value</th>\n",
              "    </tr>\n",
              "    <tr>\n",
              "      <th>timestamp</th>\n",
              "      <th></th>\n",
              "      <th></th>\n",
              "    </tr>\n",
              "  </thead>\n",
              "  <tbody>\n",
              "    <tr>\n",
              "      <th>2014-04-01 00:00:00</th>\n",
              "      <td>2014-04-01 00:00:00</td>\n",
              "      <td>19.761252</td>\n",
              "    </tr>\n",
              "    <tr>\n",
              "      <th>2014-04-01 00:05:00</th>\n",
              "      <td>2014-04-01 00:05:00</td>\n",
              "      <td>20.500833</td>\n",
              "    </tr>\n",
              "    <tr>\n",
              "      <th>2014-04-01 00:10:00</th>\n",
              "      <td>2014-04-01 00:10:00</td>\n",
              "      <td>19.961641</td>\n",
              "    </tr>\n",
              "    <tr>\n",
              "      <th>2014-04-01 00:15:00</th>\n",
              "      <td>2014-04-01 00:15:00</td>\n",
              "      <td>21.490266</td>\n",
              "    </tr>\n",
              "    <tr>\n",
              "      <th>2014-04-01 00:20:00</th>\n",
              "      <td>2014-04-01 00:20:00</td>\n",
              "      <td>20.187739</td>\n",
              "    </tr>\n",
              "    <tr>\n",
              "      <th>...</th>\n",
              "      <td>...</td>\n",
              "      <td>...</td>\n",
              "    </tr>\n",
              "    <tr>\n",
              "      <th>2014-04-14 23:35:00</th>\n",
              "      <td>2014-04-14 23:35:00</td>\n",
              "      <td>18.074649</td>\n",
              "    </tr>\n",
              "    <tr>\n",
              "      <th>2014-04-14 23:40:00</th>\n",
              "      <td>2014-04-14 23:40:00</td>\n",
              "      <td>21.002014</td>\n",
              "    </tr>\n",
              "    <tr>\n",
              "      <th>2014-04-14 23:45:00</th>\n",
              "      <td>2014-04-14 23:45:00</td>\n",
              "      <td>20.566713</td>\n",
              "    </tr>\n",
              "    <tr>\n",
              "      <th>2014-04-14 23:50:00</th>\n",
              "      <td>2014-04-14 23:50:00</td>\n",
              "      <td>18.254193</td>\n",
              "    </tr>\n",
              "    <tr>\n",
              "      <th>2014-04-14 23:55:00</th>\n",
              "      <td>2014-04-14 23:55:00</td>\n",
              "      <td>21.863147</td>\n",
              "    </tr>\n",
              "  </tbody>\n",
              "</table>\n",
              "<p>4032 rows × 2 columns</p>\n",
              "</div>"
            ],
            "text/plain": [
              "                               timestamp      value\n",
              "timestamp                                          \n",
              "2014-04-01 00:00:00  2014-04-01 00:00:00  19.761252\n",
              "2014-04-01 00:05:00  2014-04-01 00:05:00  20.500833\n",
              "2014-04-01 00:10:00  2014-04-01 00:10:00  19.961641\n",
              "2014-04-01 00:15:00  2014-04-01 00:15:00  21.490266\n",
              "2014-04-01 00:20:00  2014-04-01 00:20:00  20.187739\n",
              "...                                  ...        ...\n",
              "2014-04-14 23:35:00  2014-04-14 23:35:00  18.074649\n",
              "2014-04-14 23:40:00  2014-04-14 23:40:00  21.002014\n",
              "2014-04-14 23:45:00  2014-04-14 23:45:00  20.566713\n",
              "2014-04-14 23:50:00  2014-04-14 23:50:00  18.254193\n",
              "2014-04-14 23:55:00  2014-04-14 23:55:00  21.863147\n",
              "\n",
              "[4032 rows x 2 columns]"
            ]
          },
          "execution_count": 7,
          "metadata": {},
          "output_type": "execute_result"
        }
      ],
      "source": [
        "dataexplore"
      ]
    },
    {
      "cell_type": "code",
      "execution_count": null,
      "metadata": {
        "id": "ZyA5tT_bup4x"
      },
      "outputs": [],
      "source": [
        "# import datetime"
      ]
    },
    {
      "cell_type": "code",
      "execution_count": null,
      "metadata": {
        "id": "GNeT02Zfup4x"
      },
      "outputs": [],
      "source": [
        "# daysplit=0.5\n",
        "# print(totcol)\n",
        "# print(list(range(0,len(dataexplore),int(totcol))))\n",
        "# # print(len(dataexplore.index.hour.unique())*len(dataexplore.index.minute.unique()))\n",
        "# print(dataexplore.iloc[:,1].tolist())\n",
        "# dataexplore.iloc[list(range(0,len(dataexplore),int(totcol))),:]"
      ]
    },
    {
      "cell_type": "code",
      "execution_count": null,
      "metadata": {
        "scrolled": true,
        "id": "EmTbrxbIup4y",
        "outputId": "d6ce257e-990d-4ee6-eed1-abb7a3978a53"
      },
      "outputs": [
        {
          "data": {
            "text/html": [
              "<div>\n",
              "<style scoped>\n",
              "    .dataframe tbody tr th:only-of-type {\n",
              "        vertical-align: middle;\n",
              "    }\n",
              "\n",
              "    .dataframe tbody tr th {\n",
              "        vertical-align: top;\n",
              "    }\n",
              "\n",
              "    .dataframe thead th {\n",
              "        text-align: right;\n",
              "    }\n",
              "</style>\n",
              "<table border=\"1\" class=\"dataframe\">\n",
              "  <thead>\n",
              "    <tr style=\"text-align: right;\">\n",
              "      <th></th>\n",
              "      <th>timestamp</th>\n",
              "      <th>value</th>\n",
              "    </tr>\n",
              "    <tr>\n",
              "      <th>timestamp</th>\n",
              "      <th></th>\n",
              "      <th></th>\n",
              "    </tr>\n",
              "  </thead>\n",
              "  <tbody>\n",
              "    <tr>\n",
              "      <th>2014-04-01 00:00:00</th>\n",
              "      <td>2014-04-01 00:00:00</td>\n",
              "      <td>19.761252</td>\n",
              "    </tr>\n",
              "    <tr>\n",
              "      <th>2014-04-01 00:05:00</th>\n",
              "      <td>2014-04-01 00:05:00</td>\n",
              "      <td>20.500833</td>\n",
              "    </tr>\n",
              "    <tr>\n",
              "      <th>2014-04-01 00:10:00</th>\n",
              "      <td>2014-04-01 00:10:00</td>\n",
              "      <td>19.961641</td>\n",
              "    </tr>\n",
              "    <tr>\n",
              "      <th>2014-04-01 00:15:00</th>\n",
              "      <td>2014-04-01 00:15:00</td>\n",
              "      <td>21.490266</td>\n",
              "    </tr>\n",
              "    <tr>\n",
              "      <th>2014-04-01 00:20:00</th>\n",
              "      <td>2014-04-01 00:20:00</td>\n",
              "      <td>20.187739</td>\n",
              "    </tr>\n",
              "    <tr>\n",
              "      <th>...</th>\n",
              "      <td>...</td>\n",
              "      <td>...</td>\n",
              "    </tr>\n",
              "    <tr>\n",
              "      <th>2014-04-14 23:35:00</th>\n",
              "      <td>2014-04-14 23:35:00</td>\n",
              "      <td>18.074649</td>\n",
              "    </tr>\n",
              "    <tr>\n",
              "      <th>2014-04-14 23:40:00</th>\n",
              "      <td>2014-04-14 23:40:00</td>\n",
              "      <td>21.002014</td>\n",
              "    </tr>\n",
              "    <tr>\n",
              "      <th>2014-04-14 23:45:00</th>\n",
              "      <td>2014-04-14 23:45:00</td>\n",
              "      <td>20.566713</td>\n",
              "    </tr>\n",
              "    <tr>\n",
              "      <th>2014-04-14 23:50:00</th>\n",
              "      <td>2014-04-14 23:50:00</td>\n",
              "      <td>18.254193</td>\n",
              "    </tr>\n",
              "    <tr>\n",
              "      <th>2014-04-14 23:55:00</th>\n",
              "      <td>2014-04-14 23:55:00</td>\n",
              "      <td>21.863147</td>\n",
              "    </tr>\n",
              "  </tbody>\n",
              "</table>\n",
              "<p>4032 rows × 2 columns</p>\n",
              "</div>"
            ],
            "text/plain": [
              "                               timestamp      value\n",
              "timestamp                                          \n",
              "2014-04-01 00:00:00  2014-04-01 00:00:00  19.761252\n",
              "2014-04-01 00:05:00  2014-04-01 00:05:00  20.500833\n",
              "2014-04-01 00:10:00  2014-04-01 00:10:00  19.961641\n",
              "2014-04-01 00:15:00  2014-04-01 00:15:00  21.490266\n",
              "2014-04-01 00:20:00  2014-04-01 00:20:00  20.187739\n",
              "...                                  ...        ...\n",
              "2014-04-14 23:35:00  2014-04-14 23:35:00  18.074649\n",
              "2014-04-14 23:40:00  2014-04-14 23:40:00  21.002014\n",
              "2014-04-14 23:45:00  2014-04-14 23:45:00  20.566713\n",
              "2014-04-14 23:50:00  2014-04-14 23:50:00  18.254193\n",
              "2014-04-14 23:55:00  2014-04-14 23:55:00  21.863147\n",
              "\n",
              "[4032 rows x 2 columns]"
            ]
          },
          "execution_count": 10,
          "metadata": {},
          "output_type": "execute_result"
        }
      ],
      "source": [
        "dataexplore"
      ]
    },
    {
      "cell_type": "code",
      "execution_count": null,
      "metadata": {
        "id": "o5PdJ7Zbup4z",
        "outputId": "bae18b68-c362-48d7-fb98-fdbf8cb5e90c"
      },
      "outputs": [
        {
          "name": "stdout",
          "output_type": "stream",
          "text": [
            "Int64Index([ 1,  1,  1,  1,  1,  1,  1,  1,  1,  1,\n",
            "            ...\n",
            "            14, 14, 14, 14, 14, 14, 14, 14, 14, 14],\n",
            "           dtype='int64', name='timestamp', length=4032)\n",
            "288\n",
            "         H0-12       H1-13       H2-14       H3-15       H4-16       H5-17  \\\n",
            "0    19.761252   20.500833   19.961641   21.490266   20.187739   19.923126   \n",
            "1    80.086866   80.946370   72.008422   75.357481   72.309510   83.971745   \n",
            "2    21.608617   20.163073   20.799838   21.312434   21.166164   21.530422   \n",
            "3    79.571110   74.892690   73.834357   85.821751   86.926469   73.172994   \n",
            "4    19.025922   20.116698   21.841919   18.358538   20.732200   21.849056   \n",
            "5    81.689661   83.558957   84.078369   84.231164   82.515972   75.362435   \n",
            "6    21.260733   19.436691   19.919826   21.862756   18.968688   20.885016   \n",
            "7    79.559403   80.882115   81.439731   78.465404   85.313224   74.872860   \n",
            "8    21.961537   20.600713   18.508477   20.024680   20.116652   20.057786   \n",
            "9    83.211977   76.458864   76.184420   85.964703   74.510147   72.942651   \n",
            "10   20.125870   18.270701   19.473266   21.539654   21.020946   19.292987   \n",
            "11   80.429539   72.480972   87.108800   76.314324   72.172244   73.135236   \n",
            "12   19.259638   20.370712   19.433609   18.082647   18.387634   19.162013   \n",
            "13   80.453171   77.959993   84.091584   80.295832   72.123952   83.679266   \n",
            "14   18.763876   20.075982   20.690045   18.177329   18.884263   19.822735   \n",
            "15   87.754832   79.192505   85.526625   75.370566   79.997219   87.351246   \n",
            "16   18.341864   19.047160   18.503911   18.896529   18.424579   21.815624   \n",
            "17   85.512155   82.087443   74.167638   82.295737   74.971442   78.496453   \n",
            "18   19.367461   19.838447   19.148001   19.416523   18.115647   21.926207   \n",
            "19   72.933670   87.147719   81.704417   84.712411   78.420867   77.022174   \n",
            "20   21.152576   18.506103   20.441231   21.983627   20.382203   21.143487   \n",
            "21  150.160947  149.243925  157.318454  143.257886  141.375691  162.558258   \n",
            "22   21.814227   21.379264   19.042180   20.465836   21.692958   18.384044   \n",
            "23   80.070275   79.383194   82.659640   76.088332   77.104050   86.808438   \n",
            "24   19.092807   20.495450   20.783033   19.287643   21.260578   20.199956   \n",
            "25   85.189595   79.893056   83.130098   80.973594   81.309387   77.202862   \n",
            "26   20.461954   18.281150   21.792828   20.294423   20.031280   21.357576   \n",
            "27   81.870774   83.687556   77.492563   87.005831   83.248176   78.654283   \n",
            "\n",
            "         H6-18       H7-19       H8-20       H9-21  ...    H134-146  \\\n",
            "0    21.698404   20.878758   18.446200   18.710818  ...   87.099645   \n",
            "1    74.241136   85.801668   82.194437   75.579894  ...   21.826074   \n",
            "2    21.869018   19.756282   21.801342   20.893160  ...   72.206510   \n",
            "3    77.491198   87.227771   73.242591   82.199504  ...   19.499624   \n",
            "4    19.202308   21.445792   21.734630   20.988345  ...   80.113382   \n",
            "5    78.373611   84.316778   87.150126   73.175236  ...   21.870889   \n",
            "6    21.020471   18.883993   20.003987   19.400808  ...   85.128263   \n",
            "7    80.780422   83.455465   86.359862   86.039323  ...   21.344602   \n",
            "8    20.277967   18.074899   20.844909   20.849577  ...   81.281867   \n",
            "9    76.215415   81.613073   73.880642   79.450060  ...   19.490946   \n",
            "10   21.752733   18.306412   21.844939   18.982820  ...   78.734297   \n",
            "11   81.185579   74.115523   72.580396   77.980335  ...   18.916301   \n",
            "12   20.638818   18.394060   20.242627   18.479543  ...   86.616306   \n",
            "13   83.615022   74.552809   87.201794   75.491831  ...   19.584913   \n",
            "14   19.324017   20.850484   20.044642   18.641436  ...   86.571511   \n",
            "15   87.047919   82.840230   84.663311   74.733040  ...   21.277034   \n",
            "16   19.114251   19.775590   21.594447   20.709286  ...   79.528583   \n",
            "17   74.635060   72.265435   75.299716   80.485254  ...   18.893171   \n",
            "18   20.499200   20.002822   19.534861   20.157498  ...   73.777796   \n",
            "19   79.316612   74.260772   77.619803   85.619014  ...   18.054375   \n",
            "20   21.076246   19.401270   19.487397   20.896306  ...  156.146953   \n",
            "21  151.940306  137.949132  140.595855  164.736031  ...   21.417498   \n",
            "22   20.012118   19.824972   19.640820   21.342354  ...   76.220042   \n",
            "23   82.757050   85.123923   76.246183   80.603802  ...   21.512943   \n",
            "24   21.475998   21.053174   21.474303   18.080646  ...   72.418156   \n",
            "25   79.298082   73.162043   77.624318   83.033496  ...   18.974328   \n",
            "26   21.463051   20.089042   21.709049   18.258951  ...   72.306015   \n",
            "27   78.728849   86.594908   81.125008   83.202105  ...   18.827409   \n",
            "\n",
            "      H135-147    H136-148    H137-149    H138-150    H139-151    H140-152  \\\n",
            "0    86.630941   77.270104   73.803770   76.747404   72.052806   71.898292   \n",
            "1    20.338353   18.173853   21.881144   20.827446   19.347569   18.592200   \n",
            "2    74.219922   78.777039   75.499103   75.686853   85.493167   79.760750   \n",
            "3    20.961182   21.668908   19.834664   20.575244   18.415684   21.622006   \n",
            "4    86.250984   81.052825   87.021131   73.738119   80.606324   84.261381   \n",
            "5    20.912385   21.975654   20.608160   18.873464   18.818891   19.301962   \n",
            "6    73.794969   77.942521   72.764897   80.239037   82.219637   86.537189   \n",
            "7    18.773679   20.841612   18.249129   21.679901   18.327818   21.661084   \n",
            "8    76.634428   83.852372   87.018371   86.572269   75.798186   75.167684   \n",
            "9    20.476020   20.305662   19.580727   19.230387   19.631812   20.299542   \n",
            "10   77.735303   75.381457   77.491075   73.334082   87.012462   80.695583   \n",
            "11   18.773743   20.363959   20.968368   19.280259   18.422357   20.870992   \n",
            "12   74.860141   87.297680   84.783527   80.935020   82.102358   81.886927   \n",
            "13   18.934009   19.375330   18.287369   19.330821   19.846779   21.826113   \n",
            "14   77.952473   79.971657   73.520046   80.157869   81.288632   87.435445   \n",
            "15   21.947474   19.029020   18.228025   21.266252   20.484853   21.842988   \n",
            "16   87.008357   73.629960   85.817967   82.561487   75.687074   85.908146   \n",
            "17   20.312439   19.063583   20.649357   20.436205   18.436137   20.628018   \n",
            "18   86.115244   86.338430   82.437216   71.848410   80.109628   81.575099   \n",
            "19   21.610725   20.186450   21.478632   21.535081   19.783664   20.034486   \n",
            "20  152.149472  142.747386  161.626212  150.505607  157.614348  140.448672   \n",
            "21   21.480577   20.704204   20.665465   20.399211   18.819529   19.721203   \n",
            "22   80.173192   76.601650   83.901484   86.363991   77.274810   84.380012   \n",
            "23   19.660976   20.012354   20.092192   18.779983   20.761942   21.616056   \n",
            "24   76.472622   76.150662   81.529711   73.655002   85.600856   84.745282   \n",
            "25   20.106851   18.937683   21.236122   19.551598   21.338885   19.530186   \n",
            "26   77.016891   71.930733   75.897893   85.277351   72.150241   78.504483   \n",
            "27   19.698487   20.659525   18.287164   19.337384   18.074649   21.002014   \n",
            "\n",
            "      H141-153    H142-154    H143-155  \n",
            "0    77.858384   86.533979   85.426067  \n",
            "1    18.577241   18.674562   18.185781  \n",
            "2    83.166023   72.135947   77.375558  \n",
            "3    20.278310   21.125408   21.181831  \n",
            "4    79.926200   73.016319   80.838219  \n",
            "5    18.031982   20.730773   19.078333  \n",
            "6    83.326403   80.173701   86.400341  \n",
            "7    19.967062   19.796165   21.897432  \n",
            "8    86.795929   78.862027   74.880767  \n",
            "9    19.716324   19.057956   21.047894  \n",
            "10   73.600624   77.179027   80.268111  \n",
            "11   19.202477   18.669035   18.594464  \n",
            "12   72.496734   75.035334   86.859233  \n",
            "13   19.257339   21.613963   18.919065  \n",
            "14   87.077460   86.937583   77.108764  \n",
            "15   19.012607   18.287621   19.973603  \n",
            "16   78.395506   84.517471   77.752056  \n",
            "17   21.699985   18.648019   20.392163  \n",
            "18   87.386981   87.409449   85.207449  \n",
            "19   19.666793   19.801548   21.584732  \n",
            "20  144.313663  160.119473  135.556789  \n",
            "21   20.792225   20.157391   18.081840  \n",
            "22   79.494674   77.875185   86.492661  \n",
            "23   18.658405   18.348795   20.956899  \n",
            "24   81.938455   78.858614   86.405733  \n",
            "25   21.300687   19.336983   19.764325  \n",
            "26   73.437787   78.197434   84.909096  \n",
            "27   20.566713   18.254193   21.863147  \n",
            "\n",
            "[28 rows x 144 columns]\n"
          ]
        }
      ],
      "source": [
        "daysplit=0.5\n",
        "# print(dataexplore.index.day)\n",
        "# print(len(dataexplore.index.hour.unique())*len(dataexplore.index.minute.unique()))\n",
        "totcol=len(dataexplore.index.hour.unique())*len(dataexplore.index.minute.unique())*daysplit#=288 datos diarios x daysplit\n",
        "cl=dict()\n",
        "ids=list()\n",
        "for i in range(0,int(totcol)):\n",
        "    idx=\"H\"+str(i)+\"-\"+str(i+12)\n",
        "    cl[idx]=dataexplore.iloc[list(range(i,len(dataexplore),int(totcol))),(dataexplore.shape[1]-1)].values.tolist()\n",
        "data=pd.DataFrame(cl)\n",
        "# print(data)\n",
        "# for i in range(0,int(len(dataexplore)/(288*daysplit))):\n",
        "#     dataexplore.iloc[range(int(i*288*daysplit),int(288*daysplit+i*288*daysplit)),:].transpose()"
      ]
    },
    {
      "cell_type": "code",
      "execution_count": null,
      "metadata": {
        "id": "nVb1mUhmup4z",
        "outputId": "23439d15-3de8-4c66-b273-4e76f9169f2b"
      },
      "outputs": [
        {
          "name": "stdout",
          "output_type": "stream",
          "text": [
            "[1, 2, 3, 4, 5, 6, 7, 8, 9, 10, 11, 12, 13, 14]\n"
          ]
        }
      ],
      "source": [
        "# daysplit=0.5 #Set a daysplit so that daysplit%%hours==0\n",
        "\n",
        "# hours=list(range(24))\n",
        "# days=list(dataexplore.index.day.unique())\n",
        "\n",
        "# for el in range(12):\n",
        "#     cold[coln]\n",
        "#     dataexplore.loc[(dataexplore.index.hour==el+12)|(dataexplore.index.hour==el),:]\n",
        "\n",
        "# cold=dict()\n",
        "# for day in days:\n",
        "#     coln=list(range(len(hours)*daysplit))\n",
        "#     cold[coln]=dataexplore.loc[(dataexplore.index.day==day)&(dataexplore.index.hour<=11),:]\n",
        "#     cold[coln]=dataexplore.loc[(dataexplore.index.day==day)&(dataexplore.index.hour>=12),:]\n",
        "    \n",
        "# print(list(days))\n",
        "# # days"
      ]
    },
    {
      "cell_type": "code",
      "execution_count": null,
      "metadata": {
        "id": "leWx3q-nup4z"
      },
      "outputs": [],
      "source": [
        "#Encoding or missing values needed? No so far\n",
        "# len(dataexplore)\n",
        "\n",
        "#En este caso no es necesario el escalado porque la variable es la misma.\n",
        "# sc=StandardScaler()\n",
        "# X_train[:,3:]=sc.fit_transform(X_train[:,3:])\n",
        "# X_test[:,3:]=sc.transform(X_test[:,3:])\n",
        "\n",
        "#Quedaría la división en conjunto de test y train:\n",
        "\n",
        "ind_train=math.ceil(data.shape[0]*0.66)\n",
        "data_train=data.iloc[0:ind_train+1,:]\n",
        "data_test=data.iloc[(ind_train+1):data.shape[0],:]\n",
        "\n",
        "# data_train.to_csv(\"data/train_art_daily_jumpsup.csv\")\n",
        "# data_test.to_csv(\"data/test_art_daily_jumpsup.csv\")"
      ]
    },
    {
      "cell_type": "markdown",
      "metadata": {
        "id": "AtKDV-4sup40"
      },
      "source": [
        "Dataset loading class"
      ]
    },
    {
      "cell_type": "code",
      "execution_count": null,
      "metadata": {
        "id": "axXFeSaWup41"
      },
      "outputs": [],
      "source": [
        "class CSVDataset(Dataset):\n",
        "    def __init__(self, csvfile, datadir, transform=None, target_transform=None):\n",
        "        self.dt=pd.read_csv(datadir+\"/\"+csvfile)\n",
        "        print(self.dt)\n",
        "        self.data=self.dt.iloc[:,1:self.dt.shape[1]]\n",
        "        self.labels = self.dt.iloc[:,0]\n",
        "        self.datadir = datadir\n",
        "        self.transform = transform\n",
        "        self.target_transform = target_transform\n",
        "\n",
        "    def __len__(self):\n",
        "        return len(self.labels)\n",
        "\n",
        "    def __getitem__(self, idx):\n",
        "        data = self.data.iloc[idx, 1:]\n",
        "        label = self.labels.iloc[idx, 0]\n",
        "        if self.transform:\n",
        "            data = self.transform(data)\n",
        "        if self.target_transform:\n",
        "            label = self.target_transform(label)\n",
        "        return data, label"
      ]
    },
    {
      "cell_type": "markdown",
      "metadata": {
        "id": "rnCjuEBgup41"
      },
      "source": [
        "Cross validation set splitting and loading as pytorch tensors"
      ]
    },
    {
      "cell_type": "code",
      "execution_count": null,
      "metadata": {
        "id": "uR9_Tsmlup41",
        "outputId": "c0793f83-5247-4b52-e3a0-52964e420ad1"
      },
      "outputs": [
        {
          "name": "stdout",
          "output_type": "stream",
          "text": [
            "                timestamp      value\n",
            "0     2014-04-01 00:00:00  19.761252\n",
            "1     2014-04-01 00:05:00  20.500833\n",
            "2     2014-04-01 00:10:00  19.961641\n",
            "3     2014-04-01 00:15:00  21.490266\n",
            "4     2014-04-01 00:20:00  20.187739\n",
            "...                   ...        ...\n",
            "4027  2014-04-14 23:35:00  18.074649\n",
            "4028  2014-04-14 23:40:00  21.002014\n",
            "4029  2014-04-14 23:45:00  20.566713\n",
            "4030  2014-04-14 23:50:00  18.254193\n",
            "4031  2014-04-14 23:55:00  21.863147\n",
            "\n",
            "[4032 rows x 2 columns]\n"
          ]
        }
      ],
      "source": [
        "batch_size=2\n",
        "\n",
        "dataset_train = CSVDataset(\n",
        "    csvfile=\"train_art_daily_jumpsup.csv\",\n",
        "    datadir=\"data\",\n",
        "    transform=ToTensor())\n",
        "\n",
        "dataset_test = CSVDataset(\n",
        "    csvfile=\"test_art_daily_jumpsup.csv\",\n",
        "    datadir=\"data\",\n",
        "    transform=ToTensor())\n",
        "\n",
        "\n",
        "#NO LO UTILIZO PORQUE NO TENGO ANOMALÍAS ETIQUETADAS\n",
        "\n",
        "train=len(dataset_train)\n",
        "test=len(dataset_test)\n",
        "traincv=list()\n",
        "testcv=list()\n",
        "k=train-1\n",
        "\n",
        "splits=KFold(n_splits=k,shuffle=True)\n",
        "\n",
        "for fold,(idtrain,idtest) in enumerate(splits.split(np.arange(len(train)))):\n",
        "    traincv.append(DataLoader(dataset_train, batch_size=batch_size, sampler=SubsetRandomSampler(idtrain)))\n",
        "    testcv.append(DataLoader(dataset_train, batch_size=batch_size, sampler=SubsetRandomSampler(idtest)))\n",
        "\n",
        "device = torch.device(\"cuda:0\" if torch.cuda.is_available() else \"cpu\")\n",
        "\n",
        "# trainloaded = DataLoader(dataset, batch_size=batch_size, sampler=SubsetRandomSampler(idtrain))"
      ]
    },
    {
      "cell_type": "code",
      "execution_count": null,
      "metadata": {
        "id": "gL48o5-oup41"
      },
      "outputs": [],
      "source": [
        ""
      ]
    },
    {
      "cell_type": "code",
      "execution_count": null,
      "metadata": {
        "id": "vRuwUOLwup41"
      },
      "outputs": [],
      "source": [
        "# class LSTMTagger(torch.nn.Module):\n",
        "\n",
        "#     def __init__(self, embedding_dim, hidden_dim, vocab_size, tagset_size):\n",
        "#         super(LSTMTagger, self).__init__()\n",
        "#         self.hidden_dim = hidden_dim\n",
        "\n",
        "#         self.word_embeddings = torch.nn.Embedding(vocab_size, embedding_dim)\n",
        "\n",
        "#         # The LSTM takes word embeddings as inputs, and outputs hidden states\n",
        "#         # with dimensionality hidden_dim.\n",
        "#         self.lstm = torch.nn.LSTM(embedding_dim, hidden_dim)\n",
        "\n",
        "#         # The linear layer that maps from hidden state space to tag space\n",
        "#         self.hidden2tag = torch.nn.Linear(hidden_dim, tagset_size)\n",
        "\n",
        "#     def forward(self, sentence):\n",
        "#         embeds = self.word_embeddings(sentence)\n",
        "#         lstm_out, _ = self.lstm(embeds.view(len(sentence), 1, -1))\n",
        "#         tag_space = self.hidden2tag(lstm_out.view(len(sentence), -1))\n",
        "#         tag_scores = F.log_softmax(tag_space, dim=1)\n",
        "#         return tag_scores"
      ]
    },
    {
      "cell_type": "code",
      "execution_count": null,
      "metadata": {
        "id": "fwjXeTSDup41"
      },
      "outputs": [],
      "source": [
        "class Autoencoder(torch.nn.Module):\n",
        "    def __init__(self, **kwargs):\n",
        "        \n",
        "        #input_shape\n",
        "        #e_hidden_sizes\n",
        "        #d_hidden_sizes\n",
        "        \n",
        "        super().__init__()\n",
        "        \n",
        "        self.size=len(kwargs[\"e_hidden_sizes\"])+len(kwargs[\"d_hidden_sizes\"])\n",
        "        \n",
        "        self.encolst=list()\n",
        "        \n",
        "        for i in range(len(kwargs[\"e_hidden_sizes\"])):\n",
        "            \n",
        "            if i==0:\n",
        "                inputs=kwargs[\"input_size\"]\n",
        "                outputs=kwargs[\"e_hidden_sizes\"][i+1]\n",
        "            \n",
        "            elif i==(len(kwargs[\"e_hidden_sizes\"])-1):\n",
        "                inputs=kwargs[\"e_hidden_sizes\"][i]\n",
        "                outputs=kwargs[\"d_hidden_sizes\"][0]\n",
        "                \n",
        "            else:\n",
        "                inputs=kwargs[\"e_hidden_sizes\"][i]\n",
        "                outputs=kwargs[\"e_hidden_sizes\"][i+1]\n",
        "                \n",
        "            self.encolst.append(nn.Linear(\n",
        "                in_features=inputs, out_features=outputs\n",
        "            ))\n",
        "\n",
        "        decolst=list()\n",
        "        \n",
        "        for i in range(len(kwargs[\"d_hidden_sizes\"])):\n",
        "            \n",
        "            if i==0:\n",
        "                inputs=kwargs[\"e_hidden_sizes\"][len(kwargs[\"e_hidden_sizes\"])-1]\n",
        "                outputs=kwargs[\"d_hidden_sizes\"][i]\n",
        "            \n",
        "            elif i==(len(kwargs[\"d_hidden_sizes\"])-1):\n",
        "                inputs=kwargs[\"d_hidden_sizes\"][i]\n",
        "                outputs=kwargs[\"input_size\"]\n",
        "                \n",
        "            else:\n",
        "                inputs=kwargs[\"d_hidden_sizes\"][i]\n",
        "                outputs=kwargs[\"d_hidden_sizes\"][i+1]\n",
        "                \n",
        "            self.decolst.append(nn.Linear(\n",
        "                in_features=inputs, out_features=outputs\n",
        "            ))\n",
        "\n",
        "    def forward(self, x):\n",
        "        for i in range(len(self.encolst)):\n",
        "            x = self.encolst[i](x)\n",
        "            x = torch.relu(x)\n",
        "        for i in range(len(self.decolst)):\n",
        "            x = self.decolst[i](x)\n",
        "            x = torch.relu(x)\n",
        "        return x"
      ]
    },
    {
      "cell_type": "code",
      "execution_count": null,
      "metadata": {
        "id": "GQ-IjtT5up42"
      },
      "outputs": [],
      "source": [
        "loss_fn = torch.nn.CrossEntropyLoss()\n",
        "\n",
        "dummy_outputs = torch.rand(4, 10)\n",
        "dummy_labels = torch.tensor([1, 5, 3, 7])\n",
        "    \n",
        "\n",
        "loss = loss_fn(dummy_outputs, dummy_labels)\n",
        "print('Total loss for this batch: {}'.format(loss.item()))\n",
        "\n",
        "optimizer = torch.optim.SGD(model.parameters(), lr=0.001, momentum=0.9)\n",
        "\n",
        "def train_one_epoch(epoch_index, tb_writer):\n",
        "    running_loss = 0.\n",
        "    last_loss = 0.\n",
        "    \n",
        "    # Here, we use enumerate(training_loader) instead of\n",
        "    # iter(training_loader) so that we can track the batch\n",
        "    # index and do some intra-epoch reporting\n",
        "    for i, data in enumerate(training_loader):\n",
        "        # Every data instance is an input + label pair\n",
        "        inputs, labels = data\n",
        "        \n",
        "        # Zero your gradients for every batch!\n",
        "        optimizer.zero_grad()\n",
        "        \n",
        "        # Make predictions for this batch\n",
        "        outputs = model(inputs)\n",
        "        \n",
        "        # Compute the loss and its gradients\n",
        "        loss = loss_fn(outputs, labels)\n",
        "        loss.backward()\n",
        "        \n",
        "        # Adjust learning weights\n",
        "        optimizer.step()\n",
        "        \n",
        "        # Gather data and report\n",
        "        running_loss += loss.item()\n",
        "        if i % 1000 == 999:\n",
        "            last_loss = running_loss / 1000 # loss per batch\n",
        "            print('  batch {} loss: {}'.format(i + 1, last_loss))\n",
        "            tb_x = epoch_index * len(training_loader) + i + 1\n",
        "            tb_writer.add_scalar('Loss/train', last_loss, tb_x)\n",
        "            running_loss = 0.\n",
        "            \n",
        "    return last_loss\n",
        "\n",
        "# Initializing in a separate cell so we can easily add more epochs to the same run\n",
        "timestamp = datetime.now().strftime('%Y%m%d_%H%M%S')\n",
        "writer = SummaryWriter('runs/fashion_trainer_{}'.format(timestamp))\n",
        "epoch_number = 0\n",
        "\n",
        "EPOCHS = 5\n",
        "\n",
        "best_vloss = 1_000_000.\n",
        "\n",
        "for epoch in range(EPOCHS):\n",
        "    print('EPOCH {}:'.format(epoch_number + 1))\n",
        "    \n",
        "    # Make sure gradient tracking is on, and do a pass over the data\n",
        "    model.train(True)\n",
        "    avg_loss = train_one_epoch(epoch_number, writer)\n",
        "    \n",
        "    # We don't need gradients on to do reporting\n",
        "    model.train(False)\n",
        "    \n",
        "    running_vloss = 0.0\n",
        "    for i, vdata in enumerate(validation_loader):\n",
        "        vinputs, vlabels = vdata\n",
        "        voutputs = model(vinputs)\n",
        "        vloss = loss_fn(voutputs, vlabels)\n",
        "        running_vloss += vloss\n",
        "    \n",
        "    avg_vloss = running_vloss / (i + 1)\n",
        "    print('LOSS train {} valid {}'.format(avg_loss, avg_vloss))\n",
        "    \n",
        "    # Log the running loss averaged per batch\n",
        "    # for both training and validation\n",
        "    writer.add_scalars('Training vs. Validation Loss',\n",
        "                    { 'Training' : avg_loss, 'Validation' : avg_vloss },\n",
        "                    epoch_number + 1)\n",
        "    writer.flush()\n",
        "    \n",
        "    # Track best performance, and save the model's state\n",
        "    if avg_vloss < best_vloss:\n",
        "        best_vloss = avg_vloss\n",
        "        model_path = 'model_{}_{}'.format(timestamp, epoch_number)\n",
        "        torch.save(model.state_dict(), model_path)\n",
        "    \n",
        "    epoch_number += 1"
      ]
    }
  ],
  "metadata": {
    "kernelspec": {
      "display_name": "Python 3",
      "language": "python",
      "name": "python3"
    },
    "language_info": {
      "codemirror_mode": {
        "name": "ipython",
        "version": 3
      },
      "file_extension": ".py",
      "mimetype": "text/x-python",
      "name": "python",
      "nbconvert_exporter": "python",
      "pygments_lexer": "ipython3",
      "version": "3.8.8"
    },
    "colab": {
      "name": "DeepScan4Failure.ipynb",
      "provenance": [],
      "toc_visible": true,
      "collapsed_sections": []
    }
  },
  "nbformat": 4,
  "nbformat_minor": 0
}